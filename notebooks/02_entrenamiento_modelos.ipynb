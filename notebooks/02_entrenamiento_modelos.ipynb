{
 "cells": [
  {
   "cell_type": "markdown",
   "id": "b3b71dd7-65c1-419a-9d97-fd1880ce8ac9",
   "metadata": {},
   "source": [
    "# 02_entrenamiento_modelos.ipynb"
   ]
  },
  {
   "cell_type": "markdown",
   "id": "dad5c6ff-612c-4448-99da-9f3c3d7eefef",
   "metadata": {},
   "source": [
    "## Entrenamiento y evaluación de modelos\n",
    "Este notebook entrena distintos modelos de regresión supervisada para predecir el precio final de una pieza plástica inyectada a partir de sus características técnicas. Los datos de entrenamiento provienen del archivo `piezas_con_precios.csv`\n",
    "generado en `01_calculo_precios.ipynb`."
   ]
  },
  {
   "cell_type": "code",
   "execution_count": 1,
   "id": "029deb87-9acb-43c0-850d-b7833a3969d3",
   "metadata": {},
   "outputs": [],
   "source": [
    "# Importar las librerías necesarias\n",
    "import pandas as pd\n",
    "from sklearn.model_selection import train_test_split\n",
    "from sklearn.linear_model import LinearRegression\n",
    "from sklearn.ensemble import RandomForestRegressor, GradientBoostingRegressor\n",
    "from sklearn.metrics import mean_absolute_error, mean_squared_error, r2_score\n",
    "import matplotlib.pyplot as plt\n",
    "import numpy as np\n",
    "import joblib\n",
    "from sklearn.model_selection import GridSearchCV"
   ]
  },
  {
   "cell_type": "markdown",
   "id": "a0606a13-e79b-4b26-b7aa-46ac3b369192",
   "metadata": {},
   "source": [
    "### 1. Carga de datos\n",
    "Se carga el conjunto de datos generado por el sistema automatizado con los precios ya calculados."
   ]
  },
  {
   "cell_type": "code",
   "execution_count": 2,
   "id": "2c71b97f-dc59-46bc-a899-8253fb11181b",
   "metadata": {},
   "outputs": [
    {
     "data": {
      "text/html": [
       "<div>\n",
       "<style scoped>\n",
       "    .dataframe tbody tr th:only-of-type {\n",
       "        vertical-align: middle;\n",
       "    }\n",
       "\n",
       "    .dataframe tbody tr th {\n",
       "        vertical-align: top;\n",
       "    }\n",
       "\n",
       "    .dataframe thead th {\n",
       "        text-align: right;\n",
       "    }\n",
       "</style>\n",
       "<table border=\"1\" class=\"dataframe\">\n",
       "  <thead>\n",
       "    <tr style=\"text-align: right;\">\n",
       "      <th></th>\n",
       "      <th>referencia</th>\n",
       "      <th>descripcion</th>\n",
       "      <th>material</th>\n",
       "      <th>peso_(kg)</th>\n",
       "      <th>tiempo_ciclo_(s)</th>\n",
       "      <th>numero_cavidades</th>\n",
       "      <th>tonelaje_maquina</th>\n",
       "      <th>precio_final</th>\n",
       "    </tr>\n",
       "  </thead>\n",
       "  <tbody>\n",
       "    <tr>\n",
       "      <th>0</th>\n",
       "      <td>REF001</td>\n",
       "      <td>Pieza A</td>\n",
       "      <td>PP UV</td>\n",
       "      <td>0.25</td>\n",
       "      <td>40</td>\n",
       "      <td>2</td>\n",
       "      <td>200</td>\n",
       "      <td>1.1465</td>\n",
       "    </tr>\n",
       "    <tr>\n",
       "      <th>1</th>\n",
       "      <td>REF002</td>\n",
       "      <td>Pieza B</td>\n",
       "      <td>ASA</td>\n",
       "      <td>0.50</td>\n",
       "      <td>45</td>\n",
       "      <td>2</td>\n",
       "      <td>350</td>\n",
       "      <td>2.9074</td>\n",
       "    </tr>\n",
       "    <tr>\n",
       "      <th>2</th>\n",
       "      <td>REF003</td>\n",
       "      <td>Pieza C</td>\n",
       "      <td>PC</td>\n",
       "      <td>0.75</td>\n",
       "      <td>50</td>\n",
       "      <td>1</td>\n",
       "      <td>500</td>\n",
       "      <td>4.1983</td>\n",
       "    </tr>\n",
       "    <tr>\n",
       "      <th>3</th>\n",
       "      <td>REF004</td>\n",
       "      <td>Pieza D</td>\n",
       "      <td>PP-TD20</td>\n",
       "      <td>0.15</td>\n",
       "      <td>35</td>\n",
       "      <td>4</td>\n",
       "      <td>150</td>\n",
       "      <td>0.7708</td>\n",
       "    </tr>\n",
       "    <tr>\n",
       "      <th>4</th>\n",
       "      <td>REF005</td>\n",
       "      <td>Pieza E</td>\n",
       "      <td>ABS</td>\n",
       "      <td>0.90</td>\n",
       "      <td>55</td>\n",
       "      <td>1</td>\n",
       "      <td>650</td>\n",
       "      <td>4.4737</td>\n",
       "    </tr>\n",
       "  </tbody>\n",
       "</table>\n",
       "</div>"
      ],
      "text/plain": [
       "  referencia descripcion material  peso_(kg)  tiempo_ciclo_(s)  \\\n",
       "0     REF001     Pieza A    PP UV       0.25                40   \n",
       "1     REF002     Pieza B      ASA       0.50                45   \n",
       "2     REF003     Pieza C       PC       0.75                50   \n",
       "3     REF004     Pieza D  PP-TD20       0.15                35   \n",
       "4     REF005     Pieza E      ABS       0.90                55   \n",
       "\n",
       "   numero_cavidades  tonelaje_maquina  precio_final  \n",
       "0                 2               200        1.1465  \n",
       "1                 2               350        2.9074  \n",
       "2                 1               500        4.1983  \n",
       "3                 4               150        0.7708  \n",
       "4                 1               650        4.4737  "
      ]
     },
     "execution_count": 2,
     "metadata": {},
     "output_type": "execute_result"
    }
   ],
   "source": [
    "# Cargar el dataset 'piezas_con_precios.csv' generado en '01_calculo_precios.ipynb'.\n",
    "df = pd.read_csv(\"piezas_con_precios.csv\", sep=';')\n",
    "df.head()"
   ]
  },
  {
   "cell_type": "markdown",
   "id": "54fc318e-d227-46fc-b319-0dd38bd10fda",
   "metadata": {},
   "source": [
    "### 2. Preprocesamiento\n",
    "Separamos las variables predictoras (X) de la variable objetivo (precio_final), y aplicamos codificación one-hot sobre la variable categórica 'material'."
   ]
  },
  {
   "cell_type": "code",
   "execution_count": 3,
   "id": "1c5b88e1-109d-407e-b3d4-3483feb4592d",
   "metadata": {},
   "outputs": [],
   "source": [
    "# Definicion de variables predictoras (X) y variable objetivo (y)\n",
    "X = df.drop(columns=['referencia', 'descripcion', 'precio_final'])\n",
    "y = df['precio_final']\n",
    "\n",
    "# Aplicar One-hot encoding en 'material'\n",
    "X_encoded = pd.get_dummies(X, columns=[\"material\"])\n"
   ]
  },
  {
   "cell_type": "markdown",
   "id": "7016e51b-dcd5-411c-af2e-92a472859807",
   "metadata": {},
   "source": [
    "### 3. División de datos\n",
    "Dividimos el dataset en conjuntos de entrenamiento y prueba (80/20)."
   ]
  },
  {
   "cell_type": "code",
   "execution_count": 4,
   "id": "509bafb0-b5f0-498f-8d22-b03f4d4c77f3",
   "metadata": {},
   "outputs": [],
   "source": [
    "# Dividir los datos en train/test\n",
    "X_train, X_test, y_train, y_test = train_test_split(X_encoded, y, test_size=0.2, random_state=42)"
   ]
  },
  {
   "cell_type": "markdown",
   "id": "0d64effe-f842-4338-87d2-783676b076a3",
   "metadata": {},
   "source": [
    "### 4. Entrenamiento y evaluación de modelos\n",
    "Entrenamos tres modelos de regresión: Regresión Lineal, Random Forest y Gradient Boosting."
   ]
  },
  {
   "cell_type": "code",
   "execution_count": 5,
   "id": "03e42630-c1e5-4a03-90c2-70e997eede25",
   "metadata": {},
   "outputs": [
    {
     "name": "stdout",
     "output_type": "stream",
     "text": [
      "Resultados iniciales:\n"
     ]
    },
    {
     "data": {
      "text/html": [
       "<div>\n",
       "<style scoped>\n",
       "    .dataframe tbody tr th:only-of-type {\n",
       "        vertical-align: middle;\n",
       "    }\n",
       "\n",
       "    .dataframe tbody tr th {\n",
       "        vertical-align: top;\n",
       "    }\n",
       "\n",
       "    .dataframe thead th {\n",
       "        text-align: right;\n",
       "    }\n",
       "</style>\n",
       "<table border=\"1\" class=\"dataframe\">\n",
       "  <thead>\n",
       "    <tr style=\"text-align: right;\">\n",
       "      <th></th>\n",
       "      <th>MAE</th>\n",
       "      <th>RMSE</th>\n",
       "      <th>R²</th>\n",
       "    </tr>\n",
       "  </thead>\n",
       "  <tbody>\n",
       "    <tr>\n",
       "      <th>Regresion Lineal</th>\n",
       "      <td>1.662585</td>\n",
       "      <td>2.158612</td>\n",
       "      <td>0.953189</td>\n",
       "    </tr>\n",
       "    <tr>\n",
       "      <th>Random Forest</th>\n",
       "      <td>1.536811</td>\n",
       "      <td>2.224744</td>\n",
       "      <td>0.950277</td>\n",
       "    </tr>\n",
       "    <tr>\n",
       "      <th>Gradient Boosting</th>\n",
       "      <td>1.335597</td>\n",
       "      <td>1.922762</td>\n",
       "      <td>0.962860</td>\n",
       "    </tr>\n",
       "  </tbody>\n",
       "</table>\n",
       "</div>"
      ],
      "text/plain": [
       "                        MAE      RMSE        R²\n",
       "Regresion Lineal   1.662585  2.158612  0.953189\n",
       "Random Forest      1.536811  2.224744  0.950277\n",
       "Gradient Boosting  1.335597  1.922762  0.962860"
      ]
     },
     "execution_count": 5,
     "metadata": {},
     "output_type": "execute_result"
    }
   ],
   "source": [
    "# Modelos\n",
    "model_lr = LinearRegression()\n",
    "model_rf = RandomForestRegressor(random_state=42)\n",
    "model_gb = GradientBoostingRegressor(random_state=42)\n",
    "\n",
    "# Entrenamiento\n",
    "model_lr.fit(X_train, y_train)\n",
    "model_rf.fit(X_train, y_train)\n",
    "model_gb.fit(X_train, y_train)\n",
    "\n",
    "# Predicciones\n",
    "y_pred_lr = model_lr.predict(X_test)\n",
    "y_pred_rf = model_rf.predict(X_test)\n",
    "y_pred_gb = model_gb.predict(X_test)\n",
    "\n",
    "# Evaluación\n",
    "def evaluar(y_true, y_pred):\n",
    "    return {\n",
    "        'MAE': mean_absolute_error(y_true, y_pred),\n",
    "        'RMSE': mean_squared_error(y_true, y_pred, squared=False),\n",
    "        'R2': r2_score(y_true, y_pred)\n",
    "    }\n",
    "\n",
    "resultados_iniciales = {\n",
    "    'Regresion Lineal': evaluar(y_test, y_pred_lr),\n",
    "    'Random Forest': evaluar(y_test, y_pred_rf),\n",
    "    'Gradient Boosting': evaluar(y_test, y_pred_gb)\n",
    "}\n",
    "\n",
    "print(\"Resultados iniciales:\")\n",
    "df_resultados = pd.DataFrame(resultados_iniciales).T\n",
    "df_resultados.columns = [\"MAE\", \"RMSE\", \"R²\"]\n",
    "df_resultados"
   ]
  },
  {
   "cell_type": "markdown",
   "id": "903d515a-e191-463b-885d-8a7058eb2340",
   "metadata": {},
   "source": [
    "### 5. Búsqueda de hiperparámetros\n",
    "Realizamos una busqueda de hiperparámetros para los modelos (Random Forest y Gradient Boosting)"
   ]
  },
  {
   "cell_type": "code",
   "execution_count": 6,
   "id": "5b78364d-cdb2-44f5-9165-203fe6dd2289",
   "metadata": {},
   "outputs": [
    {
     "name": "stdout",
     "output_type": "stream",
     "text": [
      "Mejores parámetros Random Forest: {'max_depth': None, 'min_samples_leaf': 1, 'n_estimators': 200}\n",
      "Mejores parámetros Gradient Boosting: {'learning_rate': 0.2, 'max_depth': 3, 'n_estimators': 200}\n"
     ]
    }
   ],
   "source": [
    "# Random Forest\n",
    "param_rf = {\n",
    "    'n_estimators': [50, 100, 200],\n",
    "    'max_depth': [None, 5, 10],\n",
    "    'min_samples_leaf': [1, 2, 4]\n",
    "}\n",
    "grid_rf = GridSearchCV(RandomForestRegressor(random_state=42), param_rf, cv=5, scoring='neg_mean_absolute_error', n_jobs=-1)\n",
    "grid_rf.fit(X_train, y_train)\n",
    "\n",
    "# Gradient Boosting\n",
    "param_gb = {\n",
    "    'n_estimators': [50, 100, 200],\n",
    "    'learning_rate': [0.05, 0.1, 0.2],\n",
    "    'max_depth': [1, 3, 5]\n",
    "}\n",
    "grid_gb = GridSearchCV(GradientBoostingRegressor(random_state=42), param_gb, cv=5, scoring='neg_mean_absolute_error', n_jobs=-1)\n",
    "grid_gb.fit(X_train, y_train)\n",
    "\n",
    "\n",
    "print('Mejores parámetros Random Forest:', grid_rf.best_params_)\n",
    "print('Mejores parámetros Gradient Boosting:', grid_gb.best_params_)\n"
   ]
  },
  {
   "cell_type": "markdown",
   "id": "5e6a3fa8-6de0-44ed-8d2f-e8a227bfa73f",
   "metadata": {},
   "source": [
    "### 6. Evaluación con los hiperparámetros\n",
    "Evaluamos los modelos con los hiperparámetros"
   ]
  },
  {
   "cell_type": "code",
   "execution_count": 7,
   "id": "7ca35016-dfae-4d24-8835-d307b5283d3b",
   "metadata": {},
   "outputs": [
    {
     "name": "stdout",
     "output_type": "stream",
     "text": [
      "Resultados después de la optimización:\n"
     ]
    },
    {
     "data": {
      "text/html": [
       "<div>\n",
       "<style scoped>\n",
       "    .dataframe tbody tr th:only-of-type {\n",
       "        vertical-align: middle;\n",
       "    }\n",
       "\n",
       "    .dataframe tbody tr th {\n",
       "        vertical-align: top;\n",
       "    }\n",
       "\n",
       "    .dataframe thead th {\n",
       "        text-align: right;\n",
       "    }\n",
       "</style>\n",
       "<table border=\"1\" class=\"dataframe\">\n",
       "  <thead>\n",
       "    <tr style=\"text-align: right;\">\n",
       "      <th></th>\n",
       "      <th>MAE</th>\n",
       "      <th>RMSE</th>\n",
       "      <th>R²</th>\n",
       "    </tr>\n",
       "  </thead>\n",
       "  <tbody>\n",
       "    <tr>\n",
       "      <th>Regresión Lineal</th>\n",
       "      <td>1.662585</td>\n",
       "      <td>2.158612</td>\n",
       "      <td>0.953189</td>\n",
       "    </tr>\n",
       "    <tr>\n",
       "      <th>Random Forest (Optimizado)</th>\n",
       "      <td>1.575897</td>\n",
       "      <td>2.273468</td>\n",
       "      <td>0.948075</td>\n",
       "    </tr>\n",
       "    <tr>\n",
       "      <th>Gradient Boosting (Optimizado)</th>\n",
       "      <td>1.388633</td>\n",
       "      <td>1.877599</td>\n",
       "      <td>0.964584</td>\n",
       "    </tr>\n",
       "  </tbody>\n",
       "</table>\n",
       "</div>"
      ],
      "text/plain": [
       "                                     MAE      RMSE        R²\n",
       "Regresión Lineal                1.662585  2.158612  0.953189\n",
       "Random Forest (Optimizado)      1.575897  2.273468  0.948075\n",
       "Gradient Boosting (Optimizado)  1.388633  1.877599  0.964584"
      ]
     },
     "execution_count": 7,
     "metadata": {},
     "output_type": "execute_result"
    }
   ],
   "source": [
    "# Evaluación de los modelos optimizados\n",
    "best_rf = grid_rf.best_estimator_\n",
    "best_gb = grid_gb.best_estimator_\n",
    "\n",
    "y_pred_rf_opt = best_rf.predict(X_test)\n",
    "y_pred_gb_opt = best_gb.predict(X_test)\n",
    "\n",
    "resultados_finales = {\n",
    "    'Regresión Lineal': evaluar(y_test, y_pred_lr),\n",
    "    'Random Forest (Optimizado)': evaluar(y_test, y_pred_rf_opt),\n",
    "    'Gradient Boosting (Optimizado)': evaluar(y_test, y_pred_gb_opt)\n",
    "}\n",
    "\n",
    "print(\"Resultados después de la optimización:\")\n",
    "df_resultados_optimizados = pd.DataFrame(resultados_finales).T\n",
    "df_resultados_optimizados.columns = [\"MAE\", \"RMSE\", \"R²\"]\n",
    "df_resultados_optimizados\n",
    "\n"
   ]
  },
  {
   "cell_type": "markdown",
   "id": "e0a27d06-0cec-41e5-9a52-80d4753c4e83",
   "metadata": {},
   "source": [
    "### 7. Visualización de resultados\n",
    "Se grafican las métricas de evaluación para facilitar la comparación entre modelos."
   ]
  },
  {
   "cell_type": "code",
   "execution_count": 8,
   "id": "c009be59-bc77-41ab-9c83-2a77a00ae87a",
   "metadata": {},
   "outputs": [
    {
     "data": {
      "image/png": "[encoded data removed]",
      "text/plain": [
       "<Figure size 1500x400 with 3 Axes>"
      ]
     },
     "metadata": {},
     "output_type": "display_data"
    }
   ],
   "source": [
    "# Visualizar resultados\n",
    "results_df = pd.DataFrame(resultados_finales).T.reset_index().rename(columns={'index': 'Modelo'})\n",
    "results_df.columns = ['Modelo', 'MAE', 'RMSE', 'R²']\n",
    "\n",
    "colors = ['blue', 'orange', 'green']\n",
    "metricas = ['MAE', 'RMSE', 'R²']\n",
    "titulos = ['Error Absoluto Medio (MAE)', 'Raíz del Error Cuadrático Medio (RMSE)', 'Coeficiente de Determinación (R²)']\n",
    "\n",
    "fig, axes = plt.subplots(1, 3, figsize=(15, 4))\n",
    "for i, ax in enumerate(axes):\n",
    "    metric = metricas[i]\n",
    "    bars = ax.bar(results_df['Modelo'], results_df[metric], color=colors, edgecolor='black')\n",
    "    for bar in bars:\n",
    "        height = bar.get_height()\n",
    "        ax.text(bar.get_x() + bar.get_width() / 2, height, f'{height:.2f}', ha='center', va='bottom', fontsize=8)\n",
    "    ax.set_title(titulos[i], fontsize=11, weight='bold')\n",
    "    ax.set_ylabel(metric)\n",
    "    ax.set_xticks(range(len(results_df['Modelo'])))\n",
    "    ax.set_xticklabels(results_df['Modelo'], rotation=15)\n",
    "    ax.grid(axis='y', linestyle='--', alpha=0.6)\n",
    "\n",
    "plt.tight_layout()\n",
    "plt.show()\n"
   ]
  },
  {
   "cell_type": "markdown",
   "id": "5ebd9a91-4a19-4fbf-8ce6-1f8d49737d04",
   "metadata": {},
   "source": [
    "### 8. Guardar el modelo elegido"
   ]
  },
  {
   "cell_type": "code",
   "execution_count": 9,
   "id": "4ebbcaf8-a693-4c4c-aaa0-4424a711e642",
   "metadata": {},
   "outputs": [
    {
     "data": {
      "text/plain": [
       "['modelo_gradient_boosting_optimizado.pkl']"
      ]
     },
     "execution_count": 9,
     "metadata": {},
     "output_type": "execute_result"
    }
   ],
   "source": [
    "# Guardar el modelo optimizado de Gradient Boosting\n",
    "joblib.dump(grid_gb.best_estimator_, \"modelo_gradient_boosting_optimizado.pkl\")\n"
   ]
  }
 ],
 "metadata": {
  "kernelspec": {
   "display_name": "Python 3 (ipykernel)",
   "language": "python",
   "name": "python3"
  },
  "language_info": {
   "codemirror_mode": {
    "name": "ipython",
    "version": 3
   },
   "file_extension": ".py",
   "mimetype": "text/x-python",
   "name": "python",
   "nbconvert_exporter": "python",
   "pygments_lexer": "ipython3",
   "version": "3.11.7"
  }
 },
 "nbformat": 4,
 "nbformat_minor": 5
}
