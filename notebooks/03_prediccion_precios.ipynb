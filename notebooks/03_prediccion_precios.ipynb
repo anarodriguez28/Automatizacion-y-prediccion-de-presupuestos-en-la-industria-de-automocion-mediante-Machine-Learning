{
 "cells": [
  {
   "cell_type": "markdown",
   "id": "b3b71dd7-65c1-419a-9d97-fd1880ce8ac9",
   "metadata": {},
   "source": [
    "# 03_prediccion_precios.ipynb"
   ]
  },
  {
   "cell_type": "markdown",
   "id": "dad5c6ff-612c-4448-99da-9f3c3d7eefef",
   "metadata": {},
   "source": [
    "## Predicción de precios para nuevas piezas\n",
    "Este notebook permite predecir automáticamente el precio estimado de nuevas piezas plásticas a partir de sus características técnicas (como peso, tiempo de ciclo, cavidades, material, etc.), utilizando un modelo previamente entrenado con datos históricos."
   ]
  },
  {
   "cell_type": "code",
   "execution_count": 1,
   "id": "861efb2b-eb57-4c9f-9796-c2a0013d922e",
   "metadata": {},
   "outputs": [],
   "source": [
    "# Importar las librerías\n",
    "import pandas as pd\n",
    "import joblib\n",
    "from sklearn.ensemble import GradientBoostingRegressor"
   ]
  },
  {
   "cell_type": "markdown",
   "id": "c8a4bc5c-7de6-4465-87e0-aa7665c47056",
   "metadata": {},
   "source": [
    "### 1. Carga de datos históricos\n",
    "Se carga el dataset histórico para entrenar el modelo final."
   ]
  },
  {
   "cell_type": "code",
   "execution_count": 2,
   "id": "3e4b8620-1192-4d6c-8e1e-d0da26772921",
   "metadata": {},
   "outputs": [],
   "source": [
    "# Cargar datos históricos\n",
    "hist_file = 'piezas_con_precios.csv'\n",
    "df_hist = pd.read_csv(hist_file, sep=';')\n",
    "X_hist = df_hist.drop(columns=['referencia', 'descripcion', 'precio_final'])\n",
    "y_hist = df_hist['precio_final']\n",
    "X_hist_encoded = pd.get_dummies(X_hist, columns=['material'])"
   ]
  },
  {
   "cell_type": "markdown",
   "id": "12a394c1-dfb0-4fd0-8da0-68eff1995b92",
   "metadata": {},
   "source": [
    "### 2. Entrenamiento del modelo elegido\n",
    "Se carga el modelo Gradient Boosting (optimizado) con todos los datos históricos disponibles."
   ]
  },
  {
   "cell_type": "code",
   "execution_count": 3,
   "id": "c5ad766e-4a82-4de5-be48-6deea34eca43",
   "metadata": {},
   "outputs": [
    {
     "data": {
      "text/html": [
       "<style>#sk-container-id-1 {color: black;background-color: white;}#sk-container-id-1 pre{padding: 0;}#sk-container-id-1 div.sk-toggleable {background-color: white;}#sk-container-id-1 label.sk-toggleable__label {cursor: pointer;display: block;width: 100%;margin-bottom: 0;padding: 0.3em;box-sizing: border-box;text-align: center;}#sk-container-id-1 label.sk-toggleable__label-arrow:before {content: \"▸\";float: left;margin-right: 0.25em;color: #696969;}#sk-container-id-1 label.sk-toggleable__label-arrow:hover:before {color: black;}#sk-container-id-1 div.sk-estimator:hover label.sk-toggleable__label-arrow:before {color: black;}#sk-container-id-1 div.sk-toggleable__content {max-height: 0;max-width: 0;overflow: hidden;text-align: left;background-color: #f0f8ff;}#sk-container-id-1 div.sk-toggleable__content pre {margin: 0.2em;color: black;border-radius: 0.25em;background-color: #f0f8ff;}#sk-container-id-1 input.sk-toggleable__control:checked~div.sk-toggleable__content {max-height: 200px;max-width: 100%;overflow: auto;}#sk-container-id-1 input.sk-toggleable__control:checked~label.sk-toggleable__label-arrow:before {content: \"▾\";}#sk-container-id-1 div.sk-estimator input.sk-toggleable__control:checked~label.sk-toggleable__label {background-color: #d4ebff;}#sk-container-id-1 div.sk-label input.sk-toggleable__control:checked~label.sk-toggleable__label {background-color: #d4ebff;}#sk-container-id-1 input.sk-hidden--visually {border: 0;clip: rect(1px 1px 1px 1px);clip: rect(1px, 1px, 1px, 1px);height: 1px;margin: -1px;overflow: hidden;padding: 0;position: absolute;width: 1px;}#sk-container-id-1 div.sk-estimator {font-family: monospace;background-color: #f0f8ff;border: 1px dotted black;border-radius: 0.25em;box-sizing: border-box;margin-bottom: 0.5em;}#sk-container-id-1 div.sk-estimator:hover {background-color: #d4ebff;}#sk-container-id-1 div.sk-parallel-item::after {content: \"\";width: 100%;border-bottom: 1px solid gray;flex-grow: 1;}#sk-container-id-1 div.sk-label:hover label.sk-toggleable__label {background-color: #d4ebff;}#sk-container-id-1 div.sk-serial::before {content: \"\";position: absolute;border-left: 1px solid gray;box-sizing: border-box;top: 0;bottom: 0;left: 50%;z-index: 0;}#sk-container-id-1 div.sk-serial {display: flex;flex-direction: column;align-items: center;background-color: white;padding-right: 0.2em;padding-left: 0.2em;position: relative;}#sk-container-id-1 div.sk-item {position: relative;z-index: 1;}#sk-container-id-1 div.sk-parallel {display: flex;align-items: stretch;justify-content: center;background-color: white;position: relative;}#sk-container-id-1 div.sk-item::before, #sk-container-id-1 div.sk-parallel-item::before {content: \"\";position: absolute;border-left: 1px solid gray;box-sizing: border-box;top: 0;bottom: 0;left: 50%;z-index: -1;}#sk-container-id-1 div.sk-parallel-item {display: flex;flex-direction: column;z-index: 1;position: relative;background-color: white;}#sk-container-id-1 div.sk-parallel-item:first-child::after {align-self: flex-end;width: 50%;}#sk-container-id-1 div.sk-parallel-item:last-child::after {align-self: flex-start;width: 50%;}#sk-container-id-1 div.sk-parallel-item:only-child::after {width: 0;}#sk-container-id-1 div.sk-dashed-wrapped {border: 1px dashed gray;margin: 0 0.4em 0.5em 0.4em;box-sizing: border-box;padding-bottom: 0.4em;background-color: white;}#sk-container-id-1 div.sk-label label {font-family: monospace;font-weight: bold;display: inline-block;line-height: 1.2em;}#sk-container-id-1 div.sk-label-container {text-align: center;}#sk-container-id-1 div.sk-container {/* jupyter's `normalize.less` sets `[hidden] { display: none; }` but bootstrap.min.css set `[hidden] { display: none !important; }` so we also need the `!important` here to be able to override the default hidden behavior on the sphinx rendered scikit-learn.org. See: https://github.com/scikit-learn/scikit-learn/issues/21755 */display: inline-block !important;position: relative;}#sk-container-id-1 div.sk-text-repr-fallback {display: none;}</style><div id=\"sk-container-id-1\" class=\"sk-top-container\"><div class=\"sk-text-repr-fallback\"><pre>GradientBoostingRegressor(learning_rate=0.2, n_estimators=200, random_state=42)</pre><b>In a Jupyter environment, please rerun this cell to show the HTML representation or trust the notebook. <br />On GitHub, the HTML representation is unable to render, please try loading this page with nbviewer.org.</b></div><div class=\"sk-container\" hidden><div class=\"sk-item\"><div class=\"sk-estimator sk-toggleable\"><input class=\"sk-toggleable__control sk-hidden--visually\" id=\"sk-estimator-id-1\" type=\"checkbox\" checked><label for=\"sk-estimator-id-1\" class=\"sk-toggleable__label sk-toggleable__label-arrow\">GradientBoostingRegressor</label><div class=\"sk-toggleable__content\"><pre>GradientBoostingRegressor(learning_rate=0.2, n_estimators=200, random_state=42)</pre></div></div></div></div></div>"
      ],
      "text/plain": [
       "GradientBoostingRegressor(learning_rate=0.2, n_estimators=200, random_state=42)"
      ]
     },
     "execution_count": 3,
     "metadata": {},
     "output_type": "execute_result"
    }
   ],
   "source": [
    "modelo_final = joblib.load(\"modelo_gradient_boosting_optimizado.pkl\")\n",
    "modelo_final.fit(X_hist_encoded, y_hist)"
   ]
  },
  {
   "cell_type": "markdown",
   "id": "8590f99a-e7b7-4004-9303-58775a71db37",
   "metadata": {},
   "source": [
    "### 3. Carga de nuevas piezas\n",
    "Se leen las piezas nuevas cuyo precio deseamos estimar."
   ]
  },
  {
   "cell_type": "code",
   "execution_count": 4,
   "id": "2edd1bf7-ebbc-4e04-b7ea-766e5f920515",
   "metadata": {},
   "outputs": [
    {
     "data": {
      "text/html": [
       "<div>\n",
       "<style scoped>\n",
       "    .dataframe tbody tr th:only-of-type {\n",
       "        vertical-align: middle;\n",
       "    }\n",
       "\n",
       "    .dataframe tbody tr th {\n",
       "        vertical-align: top;\n",
       "    }\n",
       "\n",
       "    .dataframe thead th {\n",
       "        text-align: right;\n",
       "    }\n",
       "</style>\n",
       "<table border=\"1\" class=\"dataframe\">\n",
       "  <thead>\n",
       "    <tr style=\"text-align: right;\">\n",
       "      <th></th>\n",
       "      <th>referencia</th>\n",
       "      <th>descripcion</th>\n",
       "      <th>material</th>\n",
       "      <th>peso_(kg)</th>\n",
       "      <th>tiempo_ciclo_(s)</th>\n",
       "      <th>numero_cavidades</th>\n",
       "      <th>tonelaje_maquina</th>\n",
       "    </tr>\n",
       "  </thead>\n",
       "  <tbody>\n",
       "    <tr>\n",
       "      <th>0</th>\n",
       "      <td>REF201</td>\n",
       "      <td>Pieza TEST A</td>\n",
       "      <td>PC</td>\n",
       "      <td>1.2</td>\n",
       "      <td>65</td>\n",
       "      <td>1</td>\n",
       "      <td>1200</td>\n",
       "    </tr>\n",
       "    <tr>\n",
       "      <th>1</th>\n",
       "      <td>REF202</td>\n",
       "      <td>Pieza TEST B</td>\n",
       "      <td>PP UV</td>\n",
       "      <td>0.6</td>\n",
       "      <td>42</td>\n",
       "      <td>2</td>\n",
       "      <td>500</td>\n",
       "    </tr>\n",
       "    <tr>\n",
       "      <th>2</th>\n",
       "      <td>REF203</td>\n",
       "      <td>Pieza TEST C</td>\n",
       "      <td>ABS</td>\n",
       "      <td>2.8</td>\n",
       "      <td>85</td>\n",
       "      <td>2</td>\n",
       "      <td>1800</td>\n",
       "    </tr>\n",
       "    <tr>\n",
       "      <th>3</th>\n",
       "      <td>REF204</td>\n",
       "      <td>Pieza TEST D</td>\n",
       "      <td>PMMA</td>\n",
       "      <td>4.2</td>\n",
       "      <td>95</td>\n",
       "      <td>1</td>\n",
       "      <td>2700</td>\n",
       "    </tr>\n",
       "    <tr>\n",
       "      <th>4</th>\n",
       "      <td>REF205</td>\n",
       "      <td>Pieza TEST E</td>\n",
       "      <td>PP-GF30</td>\n",
       "      <td>3.0</td>\n",
       "      <td>80</td>\n",
       "      <td>2</td>\n",
       "      <td>2000</td>\n",
       "    </tr>\n",
       "    <tr>\n",
       "      <th>5</th>\n",
       "      <td>REF206</td>\n",
       "      <td>Pieza TEST F</td>\n",
       "      <td>PP</td>\n",
       "      <td>0.9</td>\n",
       "      <td>50</td>\n",
       "      <td>1</td>\n",
       "      <td>500</td>\n",
       "    </tr>\n",
       "    <tr>\n",
       "      <th>6</th>\n",
       "      <td>REF207</td>\n",
       "      <td>Pieza TEST G</td>\n",
       "      <td>PE</td>\n",
       "      <td>1.5</td>\n",
       "      <td>60</td>\n",
       "      <td>1</td>\n",
       "      <td>650</td>\n",
       "    </tr>\n",
       "    <tr>\n",
       "      <th>7</th>\n",
       "      <td>REF208</td>\n",
       "      <td>Pieza TEST H</td>\n",
       "      <td>POM</td>\n",
       "      <td>2.5</td>\n",
       "      <td>75</td>\n",
       "      <td>1</td>\n",
       "      <td>1000</td>\n",
       "    </tr>\n",
       "    <tr>\n",
       "      <th>8</th>\n",
       "      <td>REF209</td>\n",
       "      <td>Pieza TEST I</td>\n",
       "      <td>PMMA</td>\n",
       "      <td>6.2</td>\n",
       "      <td>100</td>\n",
       "      <td>1</td>\n",
       "      <td>2700</td>\n",
       "    </tr>\n",
       "    <tr>\n",
       "      <th>9</th>\n",
       "      <td>REF210</td>\n",
       "      <td>Pieza TEST J</td>\n",
       "      <td>ABS</td>\n",
       "      <td>3.5</td>\n",
       "      <td>80</td>\n",
       "      <td>1</td>\n",
       "      <td>1200</td>\n",
       "    </tr>\n",
       "  </tbody>\n",
       "</table>\n",
       "</div>"
      ],
      "text/plain": [
       "  referencia   descripcion material  peso_(kg)  tiempo_ciclo_(s)  \\\n",
       "0     REF201  Pieza TEST A       PC        1.2                65   \n",
       "1     REF202  Pieza TEST B    PP UV        0.6                42   \n",
       "2     REF203  Pieza TEST C      ABS        2.8                85   \n",
       "3     REF204  Pieza TEST D     PMMA        4.2                95   \n",
       "4     REF205  Pieza TEST E  PP-GF30        3.0                80   \n",
       "5     REF206  Pieza TEST F       PP        0.9                50   \n",
       "6     REF207  Pieza TEST G       PE        1.5                60   \n",
       "7     REF208  Pieza TEST H      POM        2.5                75   \n",
       "8     REF209  Pieza TEST I     PMMA        6.2               100   \n",
       "9     REF210  Pieza TEST J      ABS        3.5                80   \n",
       "\n",
       "   numero_cavidades  tonelaje_maquina  \n",
       "0                 1              1200  \n",
       "1                 2               500  \n",
       "2                 2              1800  \n",
       "3                 1              2700  \n",
       "4                 2              2000  \n",
       "5                 1               500  \n",
       "6                 1               650  \n",
       "7                 1              1000  \n",
       "8                 1              2700  \n",
       "9                 1              1200  "
      ]
     },
     "execution_count": 4,
     "metadata": {},
     "output_type": "execute_result"
    }
   ],
   "source": [
    "# Cargar nuevas piezas\n",
    "df_nuevas = pd.read_csv('nuevas_piezas.csv', sep=';')\n",
    "df_nuevas"
   ]
  },
  {
   "cell_type": "code",
   "execution_count": 5,
   "id": "f02e8971-4e33-4c17-805c-11d08cd4a427",
   "metadata": {},
   "outputs": [],
   "source": [
    "X_nuevas = df_nuevas.drop(columns=['referencia', 'descripcion'])\n",
    "X_nuevas_encoded = pd.get_dummies(X_nuevas)"
   ]
  },
  {
   "cell_type": "markdown",
   "id": "e8e57f59-5e72-4156-800e-5c41e24cafbd",
   "metadata": {},
   "source": [
    "### 4. Alineación de columnas\n",
    "Nos aseguramos de que las columnas de las nuevas piezas coincidan con las del conjunto histórico, rellenando con ceros donde sea necesario."
   ]
  },
  {
   "cell_type": "code",
   "execution_count": 6,
   "id": "0da7b51f-fa86-40d8-b304-e444ab4c936b",
   "metadata": {},
   "outputs": [],
   "source": [
    "X_nuevas_encoded = X_nuevas_encoded.reindex(columns=X_hist_encoded.columns, fill_value=0)"
   ]
  },
  {
   "cell_type": "markdown",
   "id": "8b48fb1d-7c39-4d38-8170-28e2777ac2c1",
   "metadata": {},
   "source": [
    "### 5. Predicción y exportación de precios\n",
    "Se estiman los precios usando el modelo entrenado y se exportan en un .csv."
   ]
  },
  {
   "cell_type": "code",
   "execution_count": 7,
   "id": "422eab3a-7296-4c0b-b2a1-3d576f84a51e",
   "metadata": {},
   "outputs": [
    {
     "name": "stdout",
     "output_type": "stream",
     "text": [
      "Se ha generado el archivo 'nuevas_piezas_con_precios.csv' con los precios estimados.\n"
     ]
    }
   ],
   "source": [
    "# Exportar .csv con resultados\n",
    "df_nuevas['precio_estimado'] = modelo_final.predict(X_nuevas_encoded).round(4)\n",
    "df_nuevas.to_csv('nuevas_piezas_con_precios.csv', sep=';', index=False)\n",
    "print(\"Se ha generado el archivo 'nuevas_piezas_con_precios.csv' con los precios estimados.\")"
   ]
  },
  {
   "cell_type": "code",
   "execution_count": 8,
   "id": "9b070605-e835-47af-bf80-c8bdaf2994c5",
   "metadata": {},
   "outputs": [
    {
     "data": {
      "text/html": [
       "<div>\n",
       "<style scoped>\n",
       "    .dataframe tbody tr th:only-of-type {\n",
       "        vertical-align: middle;\n",
       "    }\n",
       "\n",
       "    .dataframe tbody tr th {\n",
       "        vertical-align: top;\n",
       "    }\n",
       "\n",
       "    .dataframe thead th {\n",
       "        text-align: right;\n",
       "    }\n",
       "</style>\n",
       "<table border=\"1\" class=\"dataframe\">\n",
       "  <thead>\n",
       "    <tr style=\"text-align: right;\">\n",
       "      <th></th>\n",
       "      <th>referencia</th>\n",
       "      <th>descripcion</th>\n",
       "      <th>material</th>\n",
       "      <th>peso_(kg)</th>\n",
       "      <th>tiempo_ciclo_(s)</th>\n",
       "      <th>numero_cavidades</th>\n",
       "      <th>tonelaje_maquina</th>\n",
       "      <th>precio_estimado</th>\n",
       "    </tr>\n",
       "  </thead>\n",
       "  <tbody>\n",
       "    <tr>\n",
       "      <th>0</th>\n",
       "      <td>REF201</td>\n",
       "      <td>Pieza TEST A</td>\n",
       "      <td>PC</td>\n",
       "      <td>1.2</td>\n",
       "      <td>65</td>\n",
       "      <td>1</td>\n",
       "      <td>1200</td>\n",
       "      <td>6.4008</td>\n",
       "    </tr>\n",
       "    <tr>\n",
       "      <th>1</th>\n",
       "      <td>REF202</td>\n",
       "      <td>Pieza TEST B</td>\n",
       "      <td>PP UV</td>\n",
       "      <td>0.6</td>\n",
       "      <td>42</td>\n",
       "      <td>2</td>\n",
       "      <td>500</td>\n",
       "      <td>2.2638</td>\n",
       "    </tr>\n",
       "    <tr>\n",
       "      <th>2</th>\n",
       "      <td>REF203</td>\n",
       "      <td>Pieza TEST C</td>\n",
       "      <td>ABS</td>\n",
       "      <td>2.8</td>\n",
       "      <td>85</td>\n",
       "      <td>2</td>\n",
       "      <td>1800</td>\n",
       "      <td>10.4536</td>\n",
       "    </tr>\n",
       "    <tr>\n",
       "      <th>3</th>\n",
       "      <td>REF204</td>\n",
       "      <td>Pieza TEST D</td>\n",
       "      <td>PMMA</td>\n",
       "      <td>4.2</td>\n",
       "      <td>95</td>\n",
       "      <td>1</td>\n",
       "      <td>2700</td>\n",
       "      <td>20.9567</td>\n",
       "    </tr>\n",
       "    <tr>\n",
       "      <th>4</th>\n",
       "      <td>REF205</td>\n",
       "      <td>Pieza TEST E</td>\n",
       "      <td>PP-GF30</td>\n",
       "      <td>3.0</td>\n",
       "      <td>80</td>\n",
       "      <td>2</td>\n",
       "      <td>2000</td>\n",
       "      <td>11.9155</td>\n",
       "    </tr>\n",
       "    <tr>\n",
       "      <th>5</th>\n",
       "      <td>REF206</td>\n",
       "      <td>Pieza TEST F</td>\n",
       "      <td>PP</td>\n",
       "      <td>0.9</td>\n",
       "      <td>50</td>\n",
       "      <td>1</td>\n",
       "      <td>500</td>\n",
       "      <td>3.8079</td>\n",
       "    </tr>\n",
       "    <tr>\n",
       "      <th>6</th>\n",
       "      <td>REF207</td>\n",
       "      <td>Pieza TEST G</td>\n",
       "      <td>PE</td>\n",
       "      <td>1.5</td>\n",
       "      <td>60</td>\n",
       "      <td>1</td>\n",
       "      <td>650</td>\n",
       "      <td>5.0948</td>\n",
       "    </tr>\n",
       "    <tr>\n",
       "      <th>7</th>\n",
       "      <td>REF208</td>\n",
       "      <td>Pieza TEST H</td>\n",
       "      <td>POM</td>\n",
       "      <td>2.5</td>\n",
       "      <td>75</td>\n",
       "      <td>1</td>\n",
       "      <td>1000</td>\n",
       "      <td>12.8148</td>\n",
       "    </tr>\n",
       "    <tr>\n",
       "      <th>8</th>\n",
       "      <td>REF209</td>\n",
       "      <td>Pieza TEST I</td>\n",
       "      <td>PMMA</td>\n",
       "      <td>6.2</td>\n",
       "      <td>100</td>\n",
       "      <td>1</td>\n",
       "      <td>2700</td>\n",
       "      <td>29.8759</td>\n",
       "    </tr>\n",
       "    <tr>\n",
       "      <th>9</th>\n",
       "      <td>REF210</td>\n",
       "      <td>Pieza TEST J</td>\n",
       "      <td>ABS</td>\n",
       "      <td>3.5</td>\n",
       "      <td>80</td>\n",
       "      <td>1</td>\n",
       "      <td>1200</td>\n",
       "      <td>13.1865</td>\n",
       "    </tr>\n",
       "  </tbody>\n",
       "</table>\n",
       "</div>"
      ],
      "text/plain": [
       "  referencia   descripcion material  peso_(kg)  tiempo_ciclo_(s)  \\\n",
       "0     REF201  Pieza TEST A       PC        1.2                65   \n",
       "1     REF202  Pieza TEST B    PP UV        0.6                42   \n",
       "2     REF203  Pieza TEST C      ABS        2.8                85   \n",
       "3     REF204  Pieza TEST D     PMMA        4.2                95   \n",
       "4     REF205  Pieza TEST E  PP-GF30        3.0                80   \n",
       "5     REF206  Pieza TEST F       PP        0.9                50   \n",
       "6     REF207  Pieza TEST G       PE        1.5                60   \n",
       "7     REF208  Pieza TEST H      POM        2.5                75   \n",
       "8     REF209  Pieza TEST I     PMMA        6.2               100   \n",
       "9     REF210  Pieza TEST J      ABS        3.5                80   \n",
       "\n",
       "   numero_cavidades  tonelaje_maquina  precio_estimado  \n",
       "0                 1              1200           6.4008  \n",
       "1                 2               500           2.2638  \n",
       "2                 2              1800          10.4536  \n",
       "3                 1              2700          20.9567  \n",
       "4                 2              2000          11.9155  \n",
       "5                 1               500           3.8079  \n",
       "6                 1               650           5.0948  \n",
       "7                 1              1000          12.8148  \n",
       "8                 1              2700          29.8759  \n",
       "9                 1              1200          13.1865  "
      ]
     },
     "execution_count": 8,
     "metadata": {},
     "output_type": "execute_result"
    }
   ],
   "source": [
    "# Mostrar vista previa de los resultados\n",
    "df_nuevas"
   ]
  }
 ],
 "metadata": {
  "kernelspec": {
   "display_name": "Python 3 (ipykernel)",
   "language": "python",
   "name": "python3"
  },
  "language_info": {
   "codemirror_mode": {
    "name": "ipython",
    "version": 3
   },
   "file_extension": ".py",
   "mimetype": "text/x-python",
   "name": "python",
   "nbconvert_exporter": "python",
   "pygments_lexer": "ipython3",
   "version": "3.11.7"
  }
 },
 "nbformat": 4,
 "nbformat_minor": 5
}
